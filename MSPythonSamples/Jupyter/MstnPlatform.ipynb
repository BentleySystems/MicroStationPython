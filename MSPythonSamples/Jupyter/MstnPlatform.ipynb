{
 "cells": [
  {
   "cell_type": "markdown",
   "id": "a516fa20",
   "metadata": {},
   "source": [
    "## CreateLine"
   ]
  },
  {
   "cell_type": "code",
   "execution_count": null,
   "id": "f41bc206",
   "metadata": {},
   "outputs": [],
   "source": [
    "import math\n",
    "from MSPyBentley import *\n",
    "from MSPyBentleyGeom import *\n",
    "from MSPyECObjects import *\n",
    "from MSPyDgnPlatform import *\n",
    "from MSPyMstnPlatform import *\n",
    "\n",
    "'''\n",
    "Function to create a set of parallel lines into current model\n",
    "    basePoint : DPoint3d    base point of lines\n",
    "    step : float            distance between lines\n",
    "    length : float          length of each line\n",
    "    nLines : int            number of lines to be created\n",
    "    rotAngle : float        plane rotate angle of lines in degree.\n",
    "'''\n",
    "def drawLines(basePoint = DPoint3d(0,0,0), step = 10.0, length = 200.0, nLines = 20, rotAngle = 0.0):\n",
    "    if step <= 0.0 or length <=0.0 or nLines < 1:\n",
    "        return\n",
    "        \n",
    "    ACTIVEMODEL = ISessionMgr.ActiveDgnModelRef\n",
    "    xRot = math.radians(rotAngle)\n",
    "    yRot = xRot + math.pi * 0.5\n",
    "    xDir = DVec3d(math.cos(xRot), math.sin(xRot), 0)\n",
    "    yDir = DVec3d(math.cos(yRot), math.sin(yRot), 0)\n",
    "    eeh = EditElementHandle()\n",
    "    for i in range(nLines):\n",
    "        p1 = basePoint + i * step * xDir\n",
    "        p2 = p1 + length * yDir\n",
    "        seg = DSegment3d(p1, p2)\n",
    "        LineHandler.CreateLineElement(eeh, None, seg, ACTIVEMODEL.Is3d(), ACTIVEMODEL)\n",
    "        eeh.AddToModel()\n",
    "        \n",
    "drawLines(DPoint3d(0,0,0), 50.0, 1000.0, 100, 30.0)"
   ]
  }
 ],
 "metadata": {
  "kernelspec": {
   "display_name": "Microstation in process kernel",
   "language": "python",
   "name": "microstation"
  },
  "toc": {
   "base_numbering": 1,
   "nav_menu": {},
   "number_sections": false,
   "sideBar": true,
   "skip_h1_title": false,
   "title_cell": "Table of Contents",
   "title_sidebar": "Contents",
   "toc_cell": false,
   "toc_position": {},
   "toc_section_display": true,
   "toc_window_display": true
  }
 },
 "nbformat": 4,
 "nbformat_minor": 5
}
