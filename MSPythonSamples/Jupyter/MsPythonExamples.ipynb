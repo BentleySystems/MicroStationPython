{
 "cells": [
  {
   "cell_type": "markdown",
   "id": "549f5de0",
   "metadata": {},
   "source": [
    "### Sample scripts"
   ]
  },
  {
   "cell_type": "markdown",
   "id": "81a2648a",
   "metadata": {},
   "source": [
    "- [Bentley APIs](Bentley.ipynb)\n",
    "- [BentleyGeom APIs](BentleyGeom.ipynb)\n",
    "- [Dgnplatform APIs](Dgnplatform.ipynb)\n",
    "- [DgnView APIs](DgnView.ipynb)\n",
    "- [ECObjects APIs](ECObjects.ipynb)\n",
    "- [MstnPlatform APIs](MstnPlatform.ipynb)"
   ]
  },
  {
   "cell_type": "code",
   "execution_count": null,
   "id": "a05d312e-1fcc-4939-b491-78b302ca303c",
   "metadata": {},
   "outputs": [],
   "source": []
  }
 ],
 "metadata": {
  "kernelspec": {
   "display_name": "Python 3 (ipykernel)",
   "language": "python",
   "name": "python3"
  },
  "language_info": {
   "codemirror_mode": {
    "name": "ipython",
    "version": 3
   },
   "file_extension": ".py",
   "mimetype": "text/x-python",
   "name": "python",
   "nbconvert_exporter": "python",
   "pygments_lexer": "ipython3",
   "version": "3.8.15"
  },
  "toc": {
   "base_numbering": 1,
   "nav_menu": {},
   "number_sections": false,
   "sideBar": true,
   "skip_h1_title": false,
   "title_cell": "Table of Contents",
   "title_sidebar": "Contents",
   "toc_cell": false,
   "toc_position": {},
   "toc_section_display": true,
   "toc_window_display": true
  }
 },
 "nbformat": 4,
 "nbformat_minor": 5
}
